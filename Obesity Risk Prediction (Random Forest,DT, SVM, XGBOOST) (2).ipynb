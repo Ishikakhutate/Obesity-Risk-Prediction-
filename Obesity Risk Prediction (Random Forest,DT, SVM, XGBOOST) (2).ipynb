{
 "cells": [
  {
   "cell_type": "code",
   "execution_count": 2,
   "id": "e752a05a",
   "metadata": {},
   "outputs": [],
   "source": [
    "import numpy as np\n",
    "import pandas as pd\n",
    "import matplotlib.pyplot as plt\n",
    "import seaborn as sns"
   ]
  },
  {
   "cell_type": "code",
   "execution_count": 3,
   "id": "21f04742",
   "metadata": {},
   "outputs": [],
   "source": [
    "data = pd.read_csv('train (1).csv')"
   ]
  },
  {
   "cell_type": "code",
   "execution_count": 4,
   "id": "dbdd6dfc",
   "metadata": {},
   "outputs": [
    {
     "data": {
      "text/html": [
       "<div>\n",
       "<style scoped>\n",
       "    .dataframe tbody tr th:only-of-type {\n",
       "        vertical-align: middle;\n",
       "    }\n",
       "\n",
       "    .dataframe tbody tr th {\n",
       "        vertical-align: top;\n",
       "    }\n",
       "\n",
       "    .dataframe thead th {\n",
       "        text-align: right;\n",
       "    }\n",
       "</style>\n",
       "<table border=\"1\" class=\"dataframe\">\n",
       "  <thead>\n",
       "    <tr style=\"text-align: right;\">\n",
       "      <th></th>\n",
       "      <th>id</th>\n",
       "      <th>Gender</th>\n",
       "      <th>Age</th>\n",
       "      <th>Height</th>\n",
       "      <th>Weight</th>\n",
       "      <th>family_history_with_overweight</th>\n",
       "      <th>FAVC</th>\n",
       "      <th>FCVC</th>\n",
       "      <th>NCP</th>\n",
       "      <th>CAEC</th>\n",
       "      <th>SMOKE</th>\n",
       "      <th>CH2O</th>\n",
       "      <th>SCC</th>\n",
       "      <th>FAF</th>\n",
       "      <th>TUE</th>\n",
       "      <th>CALC</th>\n",
       "      <th>MTRANS</th>\n",
       "      <th>NObeyesdad</th>\n",
       "    </tr>\n",
       "  </thead>\n",
       "  <tbody>\n",
       "    <tr>\n",
       "      <th>0</th>\n",
       "      <td>0</td>\n",
       "      <td>Male</td>\n",
       "      <td>24.443011</td>\n",
       "      <td>1.699998</td>\n",
       "      <td>81.669950</td>\n",
       "      <td>yes</td>\n",
       "      <td>yes</td>\n",
       "      <td>2.000000</td>\n",
       "      <td>2.983297</td>\n",
       "      <td>Sometimes</td>\n",
       "      <td>no</td>\n",
       "      <td>2.763573</td>\n",
       "      <td>no</td>\n",
       "      <td>0.000000</td>\n",
       "      <td>0.976473</td>\n",
       "      <td>Sometimes</td>\n",
       "      <td>Public_Transportation</td>\n",
       "      <td>Overweight_Level_II</td>\n",
       "    </tr>\n",
       "    <tr>\n",
       "      <th>1</th>\n",
       "      <td>1</td>\n",
       "      <td>Female</td>\n",
       "      <td>18.000000</td>\n",
       "      <td>1.560000</td>\n",
       "      <td>57.000000</td>\n",
       "      <td>yes</td>\n",
       "      <td>yes</td>\n",
       "      <td>2.000000</td>\n",
       "      <td>3.000000</td>\n",
       "      <td>Frequently</td>\n",
       "      <td>no</td>\n",
       "      <td>2.000000</td>\n",
       "      <td>no</td>\n",
       "      <td>1.000000</td>\n",
       "      <td>1.000000</td>\n",
       "      <td>no</td>\n",
       "      <td>Automobile</td>\n",
       "      <td>Normal_Weight</td>\n",
       "    </tr>\n",
       "    <tr>\n",
       "      <th>2</th>\n",
       "      <td>2</td>\n",
       "      <td>Female</td>\n",
       "      <td>18.000000</td>\n",
       "      <td>1.711460</td>\n",
       "      <td>50.165754</td>\n",
       "      <td>yes</td>\n",
       "      <td>yes</td>\n",
       "      <td>1.880534</td>\n",
       "      <td>1.411685</td>\n",
       "      <td>Sometimes</td>\n",
       "      <td>no</td>\n",
       "      <td>1.910378</td>\n",
       "      <td>no</td>\n",
       "      <td>0.866045</td>\n",
       "      <td>1.673584</td>\n",
       "      <td>no</td>\n",
       "      <td>Public_Transportation</td>\n",
       "      <td>Insufficient_Weight</td>\n",
       "    </tr>\n",
       "    <tr>\n",
       "      <th>3</th>\n",
       "      <td>3</td>\n",
       "      <td>Female</td>\n",
       "      <td>20.952737</td>\n",
       "      <td>1.710730</td>\n",
       "      <td>131.274851</td>\n",
       "      <td>yes</td>\n",
       "      <td>yes</td>\n",
       "      <td>3.000000</td>\n",
       "      <td>3.000000</td>\n",
       "      <td>Sometimes</td>\n",
       "      <td>no</td>\n",
       "      <td>1.674061</td>\n",
       "      <td>no</td>\n",
       "      <td>1.467863</td>\n",
       "      <td>0.780199</td>\n",
       "      <td>Sometimes</td>\n",
       "      <td>Public_Transportation</td>\n",
       "      <td>Obesity_Type_III</td>\n",
       "    </tr>\n",
       "    <tr>\n",
       "      <th>4</th>\n",
       "      <td>4</td>\n",
       "      <td>Male</td>\n",
       "      <td>31.641081</td>\n",
       "      <td>1.914186</td>\n",
       "      <td>93.798055</td>\n",
       "      <td>yes</td>\n",
       "      <td>yes</td>\n",
       "      <td>2.679664</td>\n",
       "      <td>1.971472</td>\n",
       "      <td>Sometimes</td>\n",
       "      <td>no</td>\n",
       "      <td>1.979848</td>\n",
       "      <td>no</td>\n",
       "      <td>1.967973</td>\n",
       "      <td>0.931721</td>\n",
       "      <td>Sometimes</td>\n",
       "      <td>Public_Transportation</td>\n",
       "      <td>Overweight_Level_II</td>\n",
       "    </tr>\n",
       "  </tbody>\n",
       "</table>\n",
       "</div>"
      ],
      "text/plain": [
       "   id  Gender        Age    Height      Weight family_history_with_overweight  \\\n",
       "0   0    Male  24.443011  1.699998   81.669950                            yes   \n",
       "1   1  Female  18.000000  1.560000   57.000000                            yes   \n",
       "2   2  Female  18.000000  1.711460   50.165754                            yes   \n",
       "3   3  Female  20.952737  1.710730  131.274851                            yes   \n",
       "4   4    Male  31.641081  1.914186   93.798055                            yes   \n",
       "\n",
       "  FAVC      FCVC       NCP        CAEC SMOKE      CH2O SCC       FAF  \\\n",
       "0  yes  2.000000  2.983297   Sometimes    no  2.763573  no  0.000000   \n",
       "1  yes  2.000000  3.000000  Frequently    no  2.000000  no  1.000000   \n",
       "2  yes  1.880534  1.411685   Sometimes    no  1.910378  no  0.866045   \n",
       "3  yes  3.000000  3.000000   Sometimes    no  1.674061  no  1.467863   \n",
       "4  yes  2.679664  1.971472   Sometimes    no  1.979848  no  1.967973   \n",
       "\n",
       "        TUE       CALC                 MTRANS           NObeyesdad  \n",
       "0  0.976473  Sometimes  Public_Transportation  Overweight_Level_II  \n",
       "1  1.000000         no             Automobile        Normal_Weight  \n",
       "2  1.673584         no  Public_Transportation  Insufficient_Weight  \n",
       "3  0.780199  Sometimes  Public_Transportation     Obesity_Type_III  \n",
       "4  0.931721  Sometimes  Public_Transportation  Overweight_Level_II  "
      ]
     },
     "execution_count": 4,
     "metadata": {},
     "output_type": "execute_result"
    }
   ],
   "source": [
    "data.head()"
   ]
  },
  {
   "cell_type": "code",
   "execution_count": 5,
   "id": "4c106c93",
   "metadata": {},
   "outputs": [],
   "source": [
    "data = data.drop(['id'],axis = 1)"
   ]
  },
  {
   "cell_type": "markdown",
   "id": "b97a348a",
   "metadata": {},
   "source": [
    "# Feature Engineering "
   ]
  },
  {
   "cell_type": "code",
   "execution_count": 6,
   "id": "9c379ee9",
   "metadata": {},
   "outputs": [],
   "source": [
    "# Define bins and labels for categorizing age groups\n",
    "age_bins = [0, 12, 19, 35, 60, 100]  # Age range from 0 to 100\n",
    "age_labels = ['Child', 'Teen', 'Young Adult', 'Middle-Aged Adult', 'Senior']\n",
    " \n",
    "\n",
    "data['Age'] = pd.cut(data['Age'], bins=age_bins, labels=age_labels, right=False)"
   ]
  },
  {
   "cell_type": "code",
   "execution_count": 7,
   "id": "a4e4d648",
   "metadata": {
    "scrolled": true
   },
   "outputs": [
    {
     "data": {
      "text/plain": [
       "0        Young Adult\n",
       "1               Teen\n",
       "2               Teen\n",
       "3        Young Adult\n",
       "4        Young Adult\n",
       "            ...     \n",
       "20753    Young Adult\n",
       "20754           Teen\n",
       "20755    Young Adult\n",
       "20756    Young Adult\n",
       "20757    Young Adult\n",
       "Name: Age, Length: 20758, dtype: category\n",
       "Categories (5, object): ['Child' < 'Teen' < 'Young Adult' < 'Middle-Aged Adult' < 'Senior']"
      ]
     },
     "execution_count": 7,
     "metadata": {},
     "output_type": "execute_result"
    }
   ],
   "source": [
    "data['Age']"
   ]
  },
  {
   "cell_type": "code",
   "execution_count": 8,
   "id": "592aec79",
   "metadata": {
    "scrolled": true
   },
   "outputs": [
    {
     "data": {
      "text/plain": [
       "Gender                              object\n",
       "Age                               category\n",
       "Height                             float64\n",
       "Weight                             float64\n",
       "family_history_with_overweight      object\n",
       "FAVC                                object\n",
       "FCVC                               float64\n",
       "NCP                                float64\n",
       "CAEC                                object\n",
       "SMOKE                               object\n",
       "CH2O                               float64\n",
       "SCC                                 object\n",
       "FAF                                float64\n",
       "TUE                                float64\n",
       "CALC                                object\n",
       "MTRANS                              object\n",
       "NObeyesdad                          object\n",
       "dtype: object"
      ]
     },
     "execution_count": 8,
     "metadata": {},
     "output_type": "execute_result"
    }
   ],
   "source": [
    "data.dtypes"
   ]
  },
  {
   "cell_type": "code",
   "execution_count": 9,
   "id": "800715dd",
   "metadata": {},
   "outputs": [],
   "source": [
    "data['BMI'] = data['Weight'] / (data['Height'] ** 2)"
   ]
  },
  {
   "cell_type": "code",
   "execution_count": 10,
   "id": "aed086b5",
   "metadata": {
    "scrolled": false
   },
   "outputs": [
    {
     "data": {
      "text/html": [
       "<div>\n",
       "<style scoped>\n",
       "    .dataframe tbody tr th:only-of-type {\n",
       "        vertical-align: middle;\n",
       "    }\n",
       "\n",
       "    .dataframe tbody tr th {\n",
       "        vertical-align: top;\n",
       "    }\n",
       "\n",
       "    .dataframe thead th {\n",
       "        text-align: right;\n",
       "    }\n",
       "</style>\n",
       "<table border=\"1\" class=\"dataframe\">\n",
       "  <thead>\n",
       "    <tr style=\"text-align: right;\">\n",
       "      <th></th>\n",
       "      <th>Gender</th>\n",
       "      <th>Age</th>\n",
       "      <th>Height</th>\n",
       "      <th>Weight</th>\n",
       "      <th>family_history_with_overweight</th>\n",
       "      <th>FAVC</th>\n",
       "      <th>FCVC</th>\n",
       "      <th>NCP</th>\n",
       "      <th>CAEC</th>\n",
       "      <th>SMOKE</th>\n",
       "      <th>CH2O</th>\n",
       "      <th>SCC</th>\n",
       "      <th>FAF</th>\n",
       "      <th>TUE</th>\n",
       "      <th>CALC</th>\n",
       "      <th>MTRANS</th>\n",
       "      <th>NObeyesdad</th>\n",
       "      <th>BMI</th>\n",
       "    </tr>\n",
       "  </thead>\n",
       "  <tbody>\n",
       "    <tr>\n",
       "      <th>0</th>\n",
       "      <td>Male</td>\n",
       "      <td>Young Adult</td>\n",
       "      <td>1.699998</td>\n",
       "      <td>81.669950</td>\n",
       "      <td>yes</td>\n",
       "      <td>yes</td>\n",
       "      <td>2.000000</td>\n",
       "      <td>2.983297</td>\n",
       "      <td>Sometimes</td>\n",
       "      <td>no</td>\n",
       "      <td>2.763573</td>\n",
       "      <td>no</td>\n",
       "      <td>0.000000</td>\n",
       "      <td>0.976473</td>\n",
       "      <td>Sometimes</td>\n",
       "      <td>Public_Transportation</td>\n",
       "      <td>Overweight_Level_II</td>\n",
       "      <td>28.259565</td>\n",
       "    </tr>\n",
       "    <tr>\n",
       "      <th>1</th>\n",
       "      <td>Female</td>\n",
       "      <td>Teen</td>\n",
       "      <td>1.560000</td>\n",
       "      <td>57.000000</td>\n",
       "      <td>yes</td>\n",
       "      <td>yes</td>\n",
       "      <td>2.000000</td>\n",
       "      <td>3.000000</td>\n",
       "      <td>Frequently</td>\n",
       "      <td>no</td>\n",
       "      <td>2.000000</td>\n",
       "      <td>no</td>\n",
       "      <td>1.000000</td>\n",
       "      <td>1.000000</td>\n",
       "      <td>no</td>\n",
       "      <td>Automobile</td>\n",
       "      <td>Normal_Weight</td>\n",
       "      <td>23.422091</td>\n",
       "    </tr>\n",
       "    <tr>\n",
       "      <th>2</th>\n",
       "      <td>Female</td>\n",
       "      <td>Teen</td>\n",
       "      <td>1.711460</td>\n",
       "      <td>50.165754</td>\n",
       "      <td>yes</td>\n",
       "      <td>yes</td>\n",
       "      <td>1.880534</td>\n",
       "      <td>1.411685</td>\n",
       "      <td>Sometimes</td>\n",
       "      <td>no</td>\n",
       "      <td>1.910378</td>\n",
       "      <td>no</td>\n",
       "      <td>0.866045</td>\n",
       "      <td>1.673584</td>\n",
       "      <td>no</td>\n",
       "      <td>Public_Transportation</td>\n",
       "      <td>Insufficient_Weight</td>\n",
       "      <td>17.126706</td>\n",
       "    </tr>\n",
       "    <tr>\n",
       "      <th>3</th>\n",
       "      <td>Female</td>\n",
       "      <td>Young Adult</td>\n",
       "      <td>1.710730</td>\n",
       "      <td>131.274851</td>\n",
       "      <td>yes</td>\n",
       "      <td>yes</td>\n",
       "      <td>3.000000</td>\n",
       "      <td>3.000000</td>\n",
       "      <td>Sometimes</td>\n",
       "      <td>no</td>\n",
       "      <td>1.674061</td>\n",
       "      <td>no</td>\n",
       "      <td>1.467863</td>\n",
       "      <td>0.780199</td>\n",
       "      <td>Sometimes</td>\n",
       "      <td>Public_Transportation</td>\n",
       "      <td>Obesity_Type_III</td>\n",
       "      <td>44.855798</td>\n",
       "    </tr>\n",
       "    <tr>\n",
       "      <th>4</th>\n",
       "      <td>Male</td>\n",
       "      <td>Young Adult</td>\n",
       "      <td>1.914186</td>\n",
       "      <td>93.798055</td>\n",
       "      <td>yes</td>\n",
       "      <td>yes</td>\n",
       "      <td>2.679664</td>\n",
       "      <td>1.971472</td>\n",
       "      <td>Sometimes</td>\n",
       "      <td>no</td>\n",
       "      <td>1.979848</td>\n",
       "      <td>no</td>\n",
       "      <td>1.967973</td>\n",
       "      <td>0.931721</td>\n",
       "      <td>Sometimes</td>\n",
       "      <td>Public_Transportation</td>\n",
       "      <td>Overweight_Level_II</td>\n",
       "      <td>25.599151</td>\n",
       "    </tr>\n",
       "  </tbody>\n",
       "</table>\n",
       "</div>"
      ],
      "text/plain": [
       "   Gender          Age    Height      Weight family_history_with_overweight  \\\n",
       "0    Male  Young Adult  1.699998   81.669950                            yes   \n",
       "1  Female         Teen  1.560000   57.000000                            yes   \n",
       "2  Female         Teen  1.711460   50.165754                            yes   \n",
       "3  Female  Young Adult  1.710730  131.274851                            yes   \n",
       "4    Male  Young Adult  1.914186   93.798055                            yes   \n",
       "\n",
       "  FAVC      FCVC       NCP        CAEC SMOKE      CH2O SCC       FAF  \\\n",
       "0  yes  2.000000  2.983297   Sometimes    no  2.763573  no  0.000000   \n",
       "1  yes  2.000000  3.000000  Frequently    no  2.000000  no  1.000000   \n",
       "2  yes  1.880534  1.411685   Sometimes    no  1.910378  no  0.866045   \n",
       "3  yes  3.000000  3.000000   Sometimes    no  1.674061  no  1.467863   \n",
       "4  yes  2.679664  1.971472   Sometimes    no  1.979848  no  1.967973   \n",
       "\n",
       "        TUE       CALC                 MTRANS           NObeyesdad        BMI  \n",
       "0  0.976473  Sometimes  Public_Transportation  Overweight_Level_II  28.259565  \n",
       "1  1.000000         no             Automobile        Normal_Weight  23.422091  \n",
       "2  1.673584         no  Public_Transportation  Insufficient_Weight  17.126706  \n",
       "3  0.780199  Sometimes  Public_Transportation     Obesity_Type_III  44.855798  \n",
       "4  0.931721  Sometimes  Public_Transportation  Overweight_Level_II  25.599151  "
      ]
     },
     "execution_count": 10,
     "metadata": {},
     "output_type": "execute_result"
    }
   ],
   "source": [
    "data.head()"
   ]
  },
  {
   "cell_type": "markdown",
   "id": "0dd84540",
   "metadata": {},
   "source": [
    "# Robust Scaler "
   ]
  },
  {
   "cell_type": "code",
   "execution_count": 11,
   "id": "033d198c",
   "metadata": {},
   "outputs": [],
   "source": [
    "from sklearn.preprocessing import RobustScaler\n",
    "\n",
    "\n",
    " \n",
    "numerical_features=['Height','Weight','FCVC','NCP','CH2O','FAF','TUE','BMI']\n",
    "# Initialize the RobustScaler\n",
    "scaler = RobustScaler()\n",
    "\n",
    "data1 = data[numerical_features].apply(pd.to_numeric, errors='coerce')\n",
    "\n"
   ]
  },
  {
   "cell_type": "markdown",
   "id": "501213bf",
   "metadata": {},
   "source": [
    "# Encode categorical to Numerical"
   ]
  },
  {
   "cell_type": "code",
   "execution_count": 12,
   "id": "0ee77beb",
   "metadata": {},
   "outputs": [
    {
     "data": {
      "text/plain": [
       "LabelEncoder()"
      ]
     },
     "execution_count": 12,
     "metadata": {},
     "output_type": "execute_result"
    }
   ],
   "source": [
    "from sklearn.preprocessing import LabelEncoder\n",
    "lb = LabelEncoder()\n",
    "lb"
   ]
  },
  {
   "cell_type": "code",
   "execution_count": 13,
   "id": "af6c60a2",
   "metadata": {},
   "outputs": [],
   "source": [
    "data1['Gender'] = lb.fit_transform(data['Gender'])\n",
    "data1['Age'] = lb.fit_transform(data['Age'])\n",
    "data1['family_history_with_overweight'] = lb.fit_transform(data['family_history_with_overweight'])\n",
    "data1['FAVC'] = lb.fit_transform(data['FAVC'])\n",
    "data1['CAEC'] = lb.fit_transform(data['CAEC'])\n",
    "data1['SMOKE'] = lb.fit_transform(data['SMOKE'])\n",
    "data1['SCC'] = lb.fit_transform(data['SCC'])\n",
    "data1['CALC'] = lb.fit_transform(data['CALC'])\n",
    "data1['MTRANS'] = lb.fit_transform(data['MTRANS'])\n",
    "data1['NObeyesdad'] = lb.fit_transform(data['NObeyesdad'])"
   ]
  },
  {
   "cell_type": "code",
   "execution_count": 14,
   "id": "6b498092",
   "metadata": {},
   "outputs": [
    {
     "data": {
      "text/html": [
       "<div>\n",
       "<style scoped>\n",
       "    .dataframe tbody tr th:only-of-type {\n",
       "        vertical-align: middle;\n",
       "    }\n",
       "\n",
       "    .dataframe tbody tr th {\n",
       "        vertical-align: top;\n",
       "    }\n",
       "\n",
       "    .dataframe thead th {\n",
       "        text-align: right;\n",
       "    }\n",
       "</style>\n",
       "<table border=\"1\" class=\"dataframe\">\n",
       "  <thead>\n",
       "    <tr style=\"text-align: right;\">\n",
       "      <th></th>\n",
       "      <th>Height</th>\n",
       "      <th>Weight</th>\n",
       "      <th>FCVC</th>\n",
       "      <th>NCP</th>\n",
       "      <th>CH2O</th>\n",
       "      <th>FAF</th>\n",
       "      <th>TUE</th>\n",
       "      <th>BMI</th>\n",
       "      <th>Gender</th>\n",
       "      <th>Age</th>\n",
       "      <th>family_history_with_overweight</th>\n",
       "      <th>FAVC</th>\n",
       "      <th>CAEC</th>\n",
       "      <th>SMOKE</th>\n",
       "      <th>SCC</th>\n",
       "      <th>CALC</th>\n",
       "      <th>MTRANS</th>\n",
       "      <th>NObeyesdad</th>\n",
       "    </tr>\n",
       "  </thead>\n",
       "  <tbody>\n",
       "    <tr>\n",
       "      <th>0</th>\n",
       "      <td>1.699998</td>\n",
       "      <td>81.669950</td>\n",
       "      <td>2.000000</td>\n",
       "      <td>2.983297</td>\n",
       "      <td>2.763573</td>\n",
       "      <td>0.000000</td>\n",
       "      <td>0.976473</td>\n",
       "      <td>28.259565</td>\n",
       "      <td>1</td>\n",
       "      <td>3</td>\n",
       "      <td>1</td>\n",
       "      <td>1</td>\n",
       "      <td>2</td>\n",
       "      <td>0</td>\n",
       "      <td>0</td>\n",
       "      <td>1</td>\n",
       "      <td>3</td>\n",
       "      <td>6</td>\n",
       "    </tr>\n",
       "    <tr>\n",
       "      <th>1</th>\n",
       "      <td>1.560000</td>\n",
       "      <td>57.000000</td>\n",
       "      <td>2.000000</td>\n",
       "      <td>3.000000</td>\n",
       "      <td>2.000000</td>\n",
       "      <td>1.000000</td>\n",
       "      <td>1.000000</td>\n",
       "      <td>23.422091</td>\n",
       "      <td>0</td>\n",
       "      <td>2</td>\n",
       "      <td>1</td>\n",
       "      <td>1</td>\n",
       "      <td>1</td>\n",
       "      <td>0</td>\n",
       "      <td>0</td>\n",
       "      <td>2</td>\n",
       "      <td>0</td>\n",
       "      <td>1</td>\n",
       "    </tr>\n",
       "    <tr>\n",
       "      <th>2</th>\n",
       "      <td>1.711460</td>\n",
       "      <td>50.165754</td>\n",
       "      <td>1.880534</td>\n",
       "      <td>1.411685</td>\n",
       "      <td>1.910378</td>\n",
       "      <td>0.866045</td>\n",
       "      <td>1.673584</td>\n",
       "      <td>17.126706</td>\n",
       "      <td>0</td>\n",
       "      <td>2</td>\n",
       "      <td>1</td>\n",
       "      <td>1</td>\n",
       "      <td>2</td>\n",
       "      <td>0</td>\n",
       "      <td>0</td>\n",
       "      <td>2</td>\n",
       "      <td>3</td>\n",
       "      <td>0</td>\n",
       "    </tr>\n",
       "    <tr>\n",
       "      <th>3</th>\n",
       "      <td>1.710730</td>\n",
       "      <td>131.274851</td>\n",
       "      <td>3.000000</td>\n",
       "      <td>3.000000</td>\n",
       "      <td>1.674061</td>\n",
       "      <td>1.467863</td>\n",
       "      <td>0.780199</td>\n",
       "      <td>44.855798</td>\n",
       "      <td>0</td>\n",
       "      <td>3</td>\n",
       "      <td>1</td>\n",
       "      <td>1</td>\n",
       "      <td>2</td>\n",
       "      <td>0</td>\n",
       "      <td>0</td>\n",
       "      <td>1</td>\n",
       "      <td>3</td>\n",
       "      <td>4</td>\n",
       "    </tr>\n",
       "    <tr>\n",
       "      <th>4</th>\n",
       "      <td>1.914186</td>\n",
       "      <td>93.798055</td>\n",
       "      <td>2.679664</td>\n",
       "      <td>1.971472</td>\n",
       "      <td>1.979848</td>\n",
       "      <td>1.967973</td>\n",
       "      <td>0.931721</td>\n",
       "      <td>25.599151</td>\n",
       "      <td>1</td>\n",
       "      <td>3</td>\n",
       "      <td>1</td>\n",
       "      <td>1</td>\n",
       "      <td>2</td>\n",
       "      <td>0</td>\n",
       "      <td>0</td>\n",
       "      <td>1</td>\n",
       "      <td>3</td>\n",
       "      <td>6</td>\n",
       "    </tr>\n",
       "  </tbody>\n",
       "</table>\n",
       "</div>"
      ],
      "text/plain": [
       "     Height      Weight      FCVC       NCP      CH2O       FAF       TUE  \\\n",
       "0  1.699998   81.669950  2.000000  2.983297  2.763573  0.000000  0.976473   \n",
       "1  1.560000   57.000000  2.000000  3.000000  2.000000  1.000000  1.000000   \n",
       "2  1.711460   50.165754  1.880534  1.411685  1.910378  0.866045  1.673584   \n",
       "3  1.710730  131.274851  3.000000  3.000000  1.674061  1.467863  0.780199   \n",
       "4  1.914186   93.798055  2.679664  1.971472  1.979848  1.967973  0.931721   \n",
       "\n",
       "         BMI  Gender  Age  family_history_with_overweight  FAVC  CAEC  SMOKE  \\\n",
       "0  28.259565       1    3                               1     1     2      0   \n",
       "1  23.422091       0    2                               1     1     1      0   \n",
       "2  17.126706       0    2                               1     1     2      0   \n",
       "3  44.855798       0    3                               1     1     2      0   \n",
       "4  25.599151       1    3                               1     1     2      0   \n",
       "\n",
       "   SCC  CALC  MTRANS  NObeyesdad  \n",
       "0    0     1       3           6  \n",
       "1    0     2       0           1  \n",
       "2    0     2       3           0  \n",
       "3    0     1       3           4  \n",
       "4    0     1       3           6  "
      ]
     },
     "execution_count": 14,
     "metadata": {},
     "output_type": "execute_result"
    }
   ],
   "source": [
    "data1.head()"
   ]
  },
  {
   "cell_type": "code",
   "execution_count": 15,
   "id": "39f1ccb5",
   "metadata": {},
   "outputs": [
    {
     "data": {
      "text/html": [
       "<div>\n",
       "<style scoped>\n",
       "    .dataframe tbody tr th:only-of-type {\n",
       "        vertical-align: middle;\n",
       "    }\n",
       "\n",
       "    .dataframe tbody tr th {\n",
       "        vertical-align: top;\n",
       "    }\n",
       "\n",
       "    .dataframe thead th {\n",
       "        text-align: right;\n",
       "    }\n",
       "</style>\n",
       "<table border=\"1\" class=\"dataframe\">\n",
       "  <thead>\n",
       "    <tr style=\"text-align: right;\">\n",
       "      <th></th>\n",
       "      <th>Height</th>\n",
       "      <th>Weight</th>\n",
       "      <th>FCVC</th>\n",
       "      <th>NCP</th>\n",
       "      <th>CH2O</th>\n",
       "      <th>FAF</th>\n",
       "      <th>TUE</th>\n",
       "      <th>BMI</th>\n",
       "      <th>Gender</th>\n",
       "      <th>Age</th>\n",
       "      <th>family_history_with_overweight</th>\n",
       "      <th>FAVC</th>\n",
       "      <th>CAEC</th>\n",
       "      <th>SMOKE</th>\n",
       "      <th>SCC</th>\n",
       "      <th>CALC</th>\n",
       "      <th>MTRANS</th>\n",
       "      <th>NObeyesdad</th>\n",
       "    </tr>\n",
       "  </thead>\n",
       "  <tbody>\n",
       "    <tr>\n",
       "      <th>0</th>\n",
       "      <td>1.699998</td>\n",
       "      <td>81.669950</td>\n",
       "      <td>2.000000</td>\n",
       "      <td>2.983297</td>\n",
       "      <td>2.763573</td>\n",
       "      <td>0.000000</td>\n",
       "      <td>0.976473</td>\n",
       "      <td>28.259565</td>\n",
       "      <td>1</td>\n",
       "      <td>3</td>\n",
       "      <td>1</td>\n",
       "      <td>1</td>\n",
       "      <td>2</td>\n",
       "      <td>0</td>\n",
       "      <td>0</td>\n",
       "      <td>1</td>\n",
       "      <td>3</td>\n",
       "      <td>6</td>\n",
       "    </tr>\n",
       "    <tr>\n",
       "      <th>1</th>\n",
       "      <td>1.560000</td>\n",
       "      <td>57.000000</td>\n",
       "      <td>2.000000</td>\n",
       "      <td>3.000000</td>\n",
       "      <td>2.000000</td>\n",
       "      <td>1.000000</td>\n",
       "      <td>1.000000</td>\n",
       "      <td>23.422091</td>\n",
       "      <td>0</td>\n",
       "      <td>2</td>\n",
       "      <td>1</td>\n",
       "      <td>1</td>\n",
       "      <td>1</td>\n",
       "      <td>0</td>\n",
       "      <td>0</td>\n",
       "      <td>2</td>\n",
       "      <td>0</td>\n",
       "      <td>1</td>\n",
       "    </tr>\n",
       "    <tr>\n",
       "      <th>2</th>\n",
       "      <td>1.711460</td>\n",
       "      <td>50.165754</td>\n",
       "      <td>1.880534</td>\n",
       "      <td>1.411685</td>\n",
       "      <td>1.910378</td>\n",
       "      <td>0.866045</td>\n",
       "      <td>1.673584</td>\n",
       "      <td>17.126706</td>\n",
       "      <td>0</td>\n",
       "      <td>2</td>\n",
       "      <td>1</td>\n",
       "      <td>1</td>\n",
       "      <td>2</td>\n",
       "      <td>0</td>\n",
       "      <td>0</td>\n",
       "      <td>2</td>\n",
       "      <td>3</td>\n",
       "      <td>0</td>\n",
       "    </tr>\n",
       "    <tr>\n",
       "      <th>3</th>\n",
       "      <td>1.710730</td>\n",
       "      <td>131.274851</td>\n",
       "      <td>3.000000</td>\n",
       "      <td>3.000000</td>\n",
       "      <td>1.674061</td>\n",
       "      <td>1.467863</td>\n",
       "      <td>0.780199</td>\n",
       "      <td>44.855798</td>\n",
       "      <td>0</td>\n",
       "      <td>3</td>\n",
       "      <td>1</td>\n",
       "      <td>1</td>\n",
       "      <td>2</td>\n",
       "      <td>0</td>\n",
       "      <td>0</td>\n",
       "      <td>1</td>\n",
       "      <td>3</td>\n",
       "      <td>4</td>\n",
       "    </tr>\n",
       "    <tr>\n",
       "      <th>4</th>\n",
       "      <td>1.914186</td>\n",
       "      <td>93.798055</td>\n",
       "      <td>2.679664</td>\n",
       "      <td>1.971472</td>\n",
       "      <td>1.979848</td>\n",
       "      <td>1.967973</td>\n",
       "      <td>0.931721</td>\n",
       "      <td>25.599151</td>\n",
       "      <td>1</td>\n",
       "      <td>3</td>\n",
       "      <td>1</td>\n",
       "      <td>1</td>\n",
       "      <td>2</td>\n",
       "      <td>0</td>\n",
       "      <td>0</td>\n",
       "      <td>1</td>\n",
       "      <td>3</td>\n",
       "      <td>6</td>\n",
       "    </tr>\n",
       "  </tbody>\n",
       "</table>\n",
       "</div>"
      ],
      "text/plain": [
       "     Height      Weight      FCVC       NCP      CH2O       FAF       TUE  \\\n",
       "0  1.699998   81.669950  2.000000  2.983297  2.763573  0.000000  0.976473   \n",
       "1  1.560000   57.000000  2.000000  3.000000  2.000000  1.000000  1.000000   \n",
       "2  1.711460   50.165754  1.880534  1.411685  1.910378  0.866045  1.673584   \n",
       "3  1.710730  131.274851  3.000000  3.000000  1.674061  1.467863  0.780199   \n",
       "4  1.914186   93.798055  2.679664  1.971472  1.979848  1.967973  0.931721   \n",
       "\n",
       "         BMI  Gender  Age  family_history_with_overweight  FAVC  CAEC  SMOKE  \\\n",
       "0  28.259565       1    3                               1     1     2      0   \n",
       "1  23.422091       0    2                               1     1     1      0   \n",
       "2  17.126706       0    2                               1     1     2      0   \n",
       "3  44.855798       0    3                               1     1     2      0   \n",
       "4  25.599151       1    3                               1     1     2      0   \n",
       "\n",
       "   SCC  CALC  MTRANS  NObeyesdad  \n",
       "0    0     1       3           6  \n",
       "1    0     2       0           1  \n",
       "2    0     2       3           0  \n",
       "3    0     1       3           4  \n",
       "4    0     1       3           6  "
      ]
     },
     "execution_count": 15,
     "metadata": {},
     "output_type": "execute_result"
    }
   ],
   "source": [
    "data1.head()"
   ]
  },
  {
   "cell_type": "markdown",
   "id": "65c59336",
   "metadata": {},
   "source": [
    "# Model Creation "
   ]
  },
  {
   "cell_type": "code",
   "execution_count": 16,
   "id": "4b4707d6",
   "metadata": {},
   "outputs": [],
   "source": [
    "# Features and target\n",
    "X = data1.drop(['NObeyesdad'], axis=1)  # Assuming BMI is not a feature for classification\n",
    "y = data1['NObeyesdad']\n"
   ]
  },
  {
   "cell_type": "code",
   "execution_count": 17,
   "id": "49189e60",
   "metadata": {},
   "outputs": [],
   "source": [
    "# Split into training and testing sets\n",
    "from sklearn.model_selection import train_test_split\n",
    "\n",
    "X_train, X_test, y_train, y_test = train_test_split(X, y, test_size=0.2, random_state=42)\n",
    "\n"
   ]
  },
  {
   "cell_type": "code",
   "execution_count": 17,
   "id": "1f13c171",
   "metadata": {},
   "outputs": [
    {
     "data": {
      "text/html": [
       "<div>\n",
       "<style scoped>\n",
       "    .dataframe tbody tr th:only-of-type {\n",
       "        vertical-align: middle;\n",
       "    }\n",
       "\n",
       "    .dataframe tbody tr th {\n",
       "        vertical-align: top;\n",
       "    }\n",
       "\n",
       "    .dataframe thead th {\n",
       "        text-align: right;\n",
       "    }\n",
       "</style>\n",
       "<table border=\"1\" class=\"dataframe\">\n",
       "  <thead>\n",
       "    <tr style=\"text-align: right;\">\n",
       "      <th></th>\n",
       "      <th>Height</th>\n",
       "      <th>Weight</th>\n",
       "      <th>FCVC</th>\n",
       "      <th>NCP</th>\n",
       "      <th>CH2O</th>\n",
       "      <th>FAF</th>\n",
       "      <th>TUE</th>\n",
       "      <th>BMI</th>\n",
       "      <th>Gender</th>\n",
       "      <th>Age</th>\n",
       "      <th>family_history_with_overweight</th>\n",
       "      <th>FAVC</th>\n",
       "      <th>CAEC</th>\n",
       "      <th>SMOKE</th>\n",
       "      <th>SCC</th>\n",
       "      <th>CALC</th>\n",
       "      <th>MTRANS</th>\n",
       "    </tr>\n",
       "  </thead>\n",
       "  <tbody>\n",
       "    <tr>\n",
       "      <th>9958</th>\n",
       "      <td>1.770000</td>\n",
       "      <td>97.000000</td>\n",
       "      <td>3.0</td>\n",
       "      <td>3.000000</td>\n",
       "      <td>2.000000</td>\n",
       "      <td>3.000000</td>\n",
       "      <td>1.0</td>\n",
       "      <td>30.961729</td>\n",
       "      <td>1</td>\n",
       "      <td>2</td>\n",
       "      <td>1</td>\n",
       "      <td>1</td>\n",
       "      <td>0</td>\n",
       "      <td>0</td>\n",
       "      <td>0</td>\n",
       "      <td>2</td>\n",
       "      <td>0</td>\n",
       "    </tr>\n",
       "    <tr>\n",
       "      <th>7841</th>\n",
       "      <td>1.753389</td>\n",
       "      <td>54.877111</td>\n",
       "      <td>2.0</td>\n",
       "      <td>4.000000</td>\n",
       "      <td>2.000000</td>\n",
       "      <td>2.000000</td>\n",
       "      <td>1.0</td>\n",
       "      <td>17.849855</td>\n",
       "      <td>1</td>\n",
       "      <td>3</td>\n",
       "      <td>1</td>\n",
       "      <td>1</td>\n",
       "      <td>2</td>\n",
       "      <td>0</td>\n",
       "      <td>0</td>\n",
       "      <td>2</td>\n",
       "      <td>3</td>\n",
       "    </tr>\n",
       "    <tr>\n",
       "      <th>9293</th>\n",
       "      <td>1.819867</td>\n",
       "      <td>122.024954</td>\n",
       "      <td>3.0</td>\n",
       "      <td>2.880817</td>\n",
       "      <td>1.645338</td>\n",
       "      <td>0.739881</td>\n",
       "      <td>0.0</td>\n",
       "      <td>36.844219</td>\n",
       "      <td>1</td>\n",
       "      <td>3</td>\n",
       "      <td>1</td>\n",
       "      <td>1</td>\n",
       "      <td>2</td>\n",
       "      <td>0</td>\n",
       "      <td>0</td>\n",
       "      <td>1</td>\n",
       "      <td>3</td>\n",
       "    </tr>\n",
       "    <tr>\n",
       "      <th>15209</th>\n",
       "      <td>1.580000</td>\n",
       "      <td>80.000000</td>\n",
       "      <td>2.0</td>\n",
       "      <td>3.000000</td>\n",
       "      <td>1.000000</td>\n",
       "      <td>0.000000</td>\n",
       "      <td>0.0</td>\n",
       "      <td>32.046146</td>\n",
       "      <td>0</td>\n",
       "      <td>0</td>\n",
       "      <td>1</td>\n",
       "      <td>1</td>\n",
       "      <td>2</td>\n",
       "      <td>0</td>\n",
       "      <td>0</td>\n",
       "      <td>1</td>\n",
       "      <td>0</td>\n",
       "    </tr>\n",
       "    <tr>\n",
       "      <th>16515</th>\n",
       "      <td>1.800000</td>\n",
       "      <td>95.000000</td>\n",
       "      <td>3.0</td>\n",
       "      <td>3.000000</td>\n",
       "      <td>3.000000</td>\n",
       "      <td>2.000000</td>\n",
       "      <td>1.0</td>\n",
       "      <td>29.320988</td>\n",
       "      <td>1</td>\n",
       "      <td>3</td>\n",
       "      <td>1</td>\n",
       "      <td>0</td>\n",
       "      <td>2</td>\n",
       "      <td>0</td>\n",
       "      <td>0</td>\n",
       "      <td>0</td>\n",
       "      <td>3</td>\n",
       "    </tr>\n",
       "  </tbody>\n",
       "</table>\n",
       "</div>"
      ],
      "text/plain": [
       "         Height      Weight  FCVC       NCP      CH2O       FAF  TUE  \\\n",
       "9958   1.770000   97.000000   3.0  3.000000  2.000000  3.000000  1.0   \n",
       "7841   1.753389   54.877111   2.0  4.000000  2.000000  2.000000  1.0   \n",
       "9293   1.819867  122.024954   3.0  2.880817  1.645338  0.739881  0.0   \n",
       "15209  1.580000   80.000000   2.0  3.000000  1.000000  0.000000  0.0   \n",
       "16515  1.800000   95.000000   3.0  3.000000  3.000000  2.000000  1.0   \n",
       "\n",
       "             BMI  Gender  Age  family_history_with_overweight  FAVC  CAEC  \\\n",
       "9958   30.961729       1    2                               1     1     0   \n",
       "7841   17.849855       1    3                               1     1     2   \n",
       "9293   36.844219       1    3                               1     1     2   \n",
       "15209  32.046146       0    0                               1     1     2   \n",
       "16515  29.320988       1    3                               1     0     2   \n",
       "\n",
       "       SMOKE  SCC  CALC  MTRANS  \n",
       "9958       0    0     2       0  \n",
       "7841       0    0     2       3  \n",
       "9293       0    0     1       3  \n",
       "15209      0    0     1       0  \n",
       "16515      0    0     0       3  "
      ]
     },
     "execution_count": 17,
     "metadata": {},
     "output_type": "execute_result"
    }
   ],
   "source": [
    "X_train.head()"
   ]
  },
  {
   "cell_type": "markdown",
   "id": "859ae56e",
   "metadata": {},
   "source": [
    "# Random Forest "
   ]
  },
  {
   "cell_type": "code",
   "execution_count": 18,
   "id": "61deb9f7",
   "metadata": {},
   "outputs": [
    {
     "data": {
      "text/plain": [
       "RandomForestClassifier(random_state=42)"
      ]
     },
     "execution_count": 18,
     "metadata": {},
     "output_type": "execute_result"
    }
   ],
   "source": [
    "from sklearn.ensemble import RandomForestClassifier\n",
    "\n",
    "# Initialize the model\n",
    "rf_classifier = RandomForestClassifier(n_estimators=100, random_state=42)\n",
    "\n",
    "# Train the model\n",
    "rf_classifier.fit(X_train, y_train)\n"
   ]
  },
  {
   "cell_type": "code",
   "execution_count": 19,
   "id": "f3c7219d",
   "metadata": {},
   "outputs": [
    {
     "data": {
      "text/plain": [
       "array([2, 0, 3, ..., 5, 4, 2])"
      ]
     },
     "execution_count": 19,
     "metadata": {},
     "output_type": "execute_result"
    }
   ],
   "source": [
    "y_pred = rf_classifier.predict(X_train)\n",
    "y_pred"
   ]
  },
  {
   "cell_type": "code",
   "execution_count": 20,
   "id": "6a26ccdb",
   "metadata": {},
   "outputs": [
    {
     "name": "stdout",
     "output_type": "stream",
     "text": [
      "X_train shape: (16606, 17)\n",
      "y_train shape: (16606,)\n"
     ]
    }
   ],
   "source": [
    "print(\"X_train shape:\", X_train.shape)\n",
    "print(\"y_train shape:\", y_train.shape)"
   ]
  },
  {
   "cell_type": "code",
   "execution_count": 21,
   "id": "5a112de5",
   "metadata": {
    "scrolled": true
   },
   "outputs": [
    {
     "name": "stdout",
     "output_type": "stream",
     "text": [
      "Accuracy: 0.9993978080211972\n",
      "Confusion Matrix:\n",
      " [[1998    1    0    0    0    0    0]\n",
      " [   1 2453    0    0    0    2    0]\n",
      " [   0    0 2366    0    0    0    1]\n",
      " [   0    0    0 2591    0    0    0]\n",
      " [   0    0    0    0 3242    0    0]\n",
      " [   0    1    0    0    0 1940    2]\n",
      " [   0    0    1    0    0    1 2006]]\n",
      "Classification Report:\n",
      "               precision    recall  f1-score   support\n",
      "\n",
      "           0       1.00      1.00      1.00      1999\n",
      "           1       1.00      1.00      1.00      2456\n",
      "           2       1.00      1.00      1.00      2367\n",
      "           3       1.00      1.00      1.00      2591\n",
      "           4       1.00      1.00      1.00      3242\n",
      "           5       1.00      1.00      1.00      1943\n",
      "           6       1.00      1.00      1.00      2008\n",
      "\n",
      "    accuracy                           1.00     16606\n",
      "   macro avg       1.00      1.00      1.00     16606\n",
      "weighted avg       1.00      1.00      1.00     16606\n",
      "\n"
     ]
    }
   ],
   "source": [
    " #Evaluation Metrics for Classification\n",
    "from sklearn.metrics import classification_report, confusion_matrix, accuracy_score\n",
    "\n",
    "accuracy = accuracy_score(y_train, y_pred)\n",
    "conf_matrix = confusion_matrix(y_train, y_pred)\n",
    "class_report = classification_report(y_train, y_pred)\n",
    "\n",
    "print(\"Accuracy:\", accuracy)\n",
    "print(\"Confusion Matrix:\\n\", conf_matrix)\n",
    "print(\"Classification Report:\\n\", class_report)\n"
   ]
  },
  {
   "cell_type": "code",
   "execution_count": 22,
   "id": "5624d85b",
   "metadata": {},
   "outputs": [
    {
     "name": "stdout",
     "output_type": "stream",
     "text": [
      "y_test shape: (4152,)\n",
      "y_pred shape: (16606,)\n"
     ]
    }
   ],
   "source": [
    "print(\"y_test shape:\", y_test.shape)\n",
    "print(\"y_pred shape:\", y_pred.shape)\n"
   ]
  },
  {
   "cell_type": "code",
   "execution_count": 23,
   "id": "847ab558",
   "metadata": {},
   "outputs": [
    {
     "data": {
      "text/plain": [
       "array([4, 5, 2, ..., 2, 5, 6])"
      ]
     },
     "execution_count": 23,
     "metadata": {},
     "output_type": "execute_result"
    }
   ],
   "source": [
    "y_pred = rf_classifier.predict(X_test)\n",
    "y_pred"
   ]
  },
  {
   "cell_type": "code",
   "execution_count": 24,
   "id": "cf64c0af",
   "metadata": {
    "scrolled": true
   },
   "outputs": [
    {
     "name": "stdout",
     "output_type": "stream",
     "text": [
      "Accuracy: 0.8990847784200385\n",
      "Confusion Matrix:\n",
      " [[488  33   0   0   0   2   1]\n",
      " [ 24 556   0   0   0  43   3]\n",
      " [  2   1 476  13   1  16  34]\n",
      " [  0   0  23 631   2   0   1]\n",
      " [  0   0   1   1 802   0   0]\n",
      " [  1  41   8   0   0 369  65]\n",
      " [  0   9  41   2   0  51 411]]\n",
      "Classification Report:\n",
      "               precision    recall  f1-score   support\n",
      "\n",
      "           0       0.95      0.93      0.94       524\n",
      "           1       0.87      0.89      0.88       626\n",
      "           2       0.87      0.88      0.87       543\n",
      "           3       0.98      0.96      0.97       657\n",
      "           4       1.00      1.00      1.00       804\n",
      "           5       0.77      0.76      0.76       484\n",
      "           6       0.80      0.80      0.80       514\n",
      "\n",
      "    accuracy                           0.90      4152\n",
      "   macro avg       0.89      0.89      0.89      4152\n",
      "weighted avg       0.90      0.90      0.90      4152\n",
      "\n"
     ]
    }
   ],
   "source": [
    "#Evaluation Metrics for Classification\n",
    "from sklearn.metrics import classification_report, confusion_matrix, accuracy_score\n",
    "accuracy = accuracy_score(y_test, y_pred)\n",
    "conf_matrix = confusion_matrix(y_test, y_pred)\n",
    "class_report = classification_report(y_test, y_pred)\n",
    "\n",
    "print(\"Accuracy:\", accuracy)\n",
    "print(\"Confusion Matrix:\\n\", conf_matrix)\n",
    "print(\"Classification Report:\\n\", class_report)\n"
   ]
  },
  {
   "cell_type": "markdown",
   "id": "8b7e0052",
   "metadata": {},
   "source": [
    "# XGBOOST "
   ]
  },
  {
   "cell_type": "markdown",
   "id": "e9c71eb4",
   "metadata": {},
   "source": [
    "Before applying feature importance "
   ]
  },
  {
   "cell_type": "code",
   "execution_count": 84,
   "id": "c6b4a5cb",
   "metadata": {},
   "outputs": [
    {
     "data": {
      "text/plain": [
       "XGBClassifier(base_score=None, booster=None, callbacks=None,\n",
       "              colsample_bylevel=None, colsample_bynode=None,\n",
       "              colsample_bytree=None, device=None, early_stopping_rounds=None,\n",
       "              enable_categorical=False, eval_metric=None, feature_types=None,\n",
       "              gamma=None, grow_policy=None, importance_type=None,\n",
       "              interaction_constraints=None, learning_rate=None, max_bin=None,\n",
       "              max_cat_threshold=None, max_cat_to_onehot=None,\n",
       "              max_delta_step=None, max_depth=None, max_leaves=None,\n",
       "              min_child_weight=None, missing=nan, monotone_constraints=None,\n",
       "              multi_strategy=None, n_estimators=None, n_jobs=None,\n",
       "              num_parallel_tree=None, objective='multi:softprob', ...)"
      ]
     },
     "execution_count": 84,
     "metadata": {},
     "output_type": "execute_result"
    }
   ],
   "source": [
    "from xgboost import XGBClassifier\n",
    "\n",
    "# Initialize the XGBoost classifier with default parameters\n",
    "xgb = XGBClassifier(random_state=42)\n",
    "\n",
    "# Fit the model to the training data\n",
    "xgb.fit(X_train, y_train)"
   ]
  },
  {
   "cell_type": "code",
   "execution_count": 85,
   "id": "deef665b",
   "metadata": {},
   "outputs": [
    {
     "name": "stdout",
     "output_type": "stream",
     "text": [
      "0.984945200529929\n"
     ]
    }
   ],
   "source": [
    "y_pred = xgb.predict(X_train)\n",
    "\n",
    "accuracy = accuracy_score(y_train, y_pred)\n",
    "print(accuracy_score(y_train,y_pred))"
   ]
  },
  {
   "cell_type": "code",
   "execution_count": 86,
   "id": "443e4c29",
   "metadata": {
    "scrolled": true
   },
   "outputs": [
    {
     "name": "stdout",
     "output_type": "stream",
     "text": [
      "0.9019749518304432\n",
      "Confusion Matrix:\n",
      "[[489  30   0   0   0   3   2]\n",
      " [ 24 554   0   0   1  41   6]\n",
      " [  2   1 474  10   1  16  39]\n",
      " [  0   0  19 632   3   0   3]\n",
      " [  0   0   0   1 802   0   1]\n",
      " [  1  34  11   0   0 384  54]\n",
      " [  0   8  35   5   0  56 410]]\n",
      "Classification Report:\n",
      "               precision    recall  f1-score   support\n",
      "\n",
      "           0       0.95      0.93      0.94       524\n",
      "           1       0.88      0.88      0.88       626\n",
      "           2       0.88      0.87      0.88       543\n",
      "           3       0.98      0.96      0.97       657\n",
      "           4       0.99      1.00      1.00       804\n",
      "           5       0.77      0.79      0.78       484\n",
      "           6       0.80      0.80      0.80       514\n",
      "\n",
      "    accuracy                           0.90      4152\n",
      "   macro avg       0.89      0.89      0.89      4152\n",
      "weighted avg       0.90      0.90      0.90      4152\n",
      "\n"
     ]
    }
   ],
   "source": [
    "y_pred = xgb.predict(X_test)\n",
    "\n",
    "# Evaluate the model's accuracy\n",
    "accuracy = accuracy_score(y_test, y_pred)\n",
    "print(accuracy_score(y_test,y_pred))\n",
    "\n",
    "# Print confusion matrix\n",
    "conf_matrix = confusion_matrix(y_test, y_pred)\n",
    "print(\"Confusion Matrix:\")\n",
    "print(conf_matrix)\n",
    "\n",
    "class_report = classification_report(y_test, y_pred)\n",
    "print(\"Classification Report:\\n\", class_report)\n"
   ]
  },
  {
   "cell_type": "markdown",
   "id": "cdfc0024",
   "metadata": {},
   "source": [
    "After applying feature importance"
   ]
  },
  {
   "cell_type": "code",
   "execution_count": 87,
   "id": "9f753d47",
   "metadata": {},
   "outputs": [
    {
     "name": "stdout",
     "output_type": "stream",
     "text": [
      "                           Feature  Importance\n",
      "8                           Gender    0.358933\n",
      "7                              BMI    0.277071\n",
      "1                           Weight    0.109099\n",
      "11                            FAVC    0.035262\n",
      "4                             CH2O    0.024133\n",
      "15                            CALC    0.023521\n",
      "2                             FCVC    0.023417\n",
      "14                             SCC    0.019982\n",
      "3                              NCP    0.017849\n",
      "10  family_history_with_overweight    0.017795\n",
      "9                              Age    0.016231\n",
      "12                            CAEC    0.015783\n",
      "6                              TUE    0.014040\n",
      "0                           Height    0.013211\n",
      "5                              FAF    0.012967\n",
      "16                          MTRANS    0.012471\n",
      "13                           SMOKE    0.008235\n"
     ]
    },
    {
     "data": {
      "image/png": "[encoded data removed]",
      "text/plain": [
       "<Figure size 720x432 with 1 Axes>"
      ]
     },
     "metadata": {
      "needs_background": "light"
     },
     "output_type": "display_data"
    }
   ],
   "source": [
    "# Get feature importances\n",
    "importances = xgb.feature_importances_\n",
    "\n",
    "# Create a DataFrame for visualization\n",
    "feature_importances = pd.DataFrame({\n",
    "    'Feature': X_train.columns,\n",
    "    'Importance': importances\n",
    "}).sort_values(by='Importance', ascending=False)\n",
    "\n",
    "print(feature_importances)\n",
    "\n",
    "# Plot feature importances\n",
    "plt.figure(figsize=(10, 6))\n",
    "sns.barplot(x='Importance', y='Feature', data=feature_importances, palette='viridis')\n",
    "plt.title('Feature Importances from XGBoost')\n",
    "plt.xlabel('Importance Score')\n",
    "plt.ylabel('Features')\n",
    "plt.show()"
   ]
  },
  {
   "cell_type": "markdown",
   "id": "0928ea67",
   "metadata": {},
   "source": [
    "Top Features:\n",
    "\n",
    "Gender (0.358933): The most important feature in your model, likely indicating a strong relationship between gender and the target variable.\n",
    "\n",
    "BMI (0.277071): BMI (Body Mass Index) is the second most significant predictor, which makes sense as it's often closely related to health conditions, including obesity.\n",
    "\n",
    "Weight (0.109099): Another important feature related to the individual's body composition, which has a high influence on obesity."
   ]
  },
  {
   "cell_type": "markdown",
   "id": "41507f2e",
   "metadata": {},
   "source": [
    "Mid-Level Features:\n",
    "\n",
    "FAVC (0.035262): Frequent consumption of high-calorie food could be moderately important in predicting obesity risk.\n",
    "\n",
    "CH2O (0.024133): Daily water intake, though less important, still has some predictive power in the model.\n",
    "\n",
    "CALC (0.023521): Calcium intake or alcohol consumption is contributing slightly.\n",
    "\n",
    "FCVC (0.023417): Frequency of vegetable consumption helps in a small way to predict obesity.\n",
    "\n",
    "Low Importance Features:\n",
    "\n",
    "SCC (0.019982): This feature (likely related to sugar consumption) plays a lesser role.\n",
    "\n",
    "NCP (0.017849): Number of main meals is less predictive but still contributes.\n",
    "\n",
    "Family history of overweight (0.017795): Family history has some role in predicting the target variable.\n",
    "\n",
    "Age (0.016231): Surprisingly, age is not as significant in your model.\n",
    "\n",
    "Other features (TUE, Height, FAF, MTRANS, SMOKE): These have very low importance, but they may still add value in specific cases or when combined with other features."
   ]
  },
  {
   "cell_type": "code",
   "execution_count": 88,
   "id": "f133eb6f",
   "metadata": {},
   "outputs": [
    {
     "name": "stdout",
     "output_type": "stream",
     "text": [
      "Significant Features: ['Gender', 'BMI', 'Weight', 'FAVC', 'CH2O', 'CALC', 'FCVC', 'SCC', 'NCP', 'family_history_with_overweight', 'Age', 'CAEC', 'TUE', 'Height', 'FAF', 'MTRANS']\n"
     ]
    }
   ],
   "source": [
    "# Set a threshold for feature importance\n",
    "importance_threshold = 0.010# Adjust as needed\n",
    "\n",
    "# Select features above the threshold\n",
    "significant_features = feature_importances[feature_importances['Importance'] > importance_threshold]['Feature'].tolist()\n",
    "print(\"Significant Features:\", significant_features)\n",
    "\n",
    "# Final dataset with significant features\n",
    "X_significant = X_train[significant_features]\n"
   ]
  },
  {
   "cell_type": "code",
   "execution_count": 89,
   "id": "ffbbfa46",
   "metadata": {
    "scrolled": true
   },
   "outputs": [
    {
     "data": {
      "text/plain": [
       "XGBClassifier(base_score=None, booster=None, callbacks=None,\n",
       "              colsample_bylevel=None, colsample_bynode=None,\n",
       "              colsample_bytree=None, device=None, early_stopping_rounds=None,\n",
       "              enable_categorical=False, eval_metric='mlogloss',\n",
       "              feature_types=None, gamma=None, grow_policy=None,\n",
       "              importance_type=None, interaction_constraints=None,\n",
       "              learning_rate=None, max_bin=None, max_cat_threshold=None,\n",
       "              max_cat_to_onehot=None, max_delta_step=None, max_depth=None,\n",
       "              max_leaves=None, min_child_weight=None, missing=nan,\n",
       "              monotone_constraints=None, multi_strategy=None, n_estimators=None,\n",
       "              n_jobs=None, num_parallel_tree=None, objective='multi:softprob', ...)"
      ]
     },
     "execution_count": 89,
     "metadata": {},
     "output_type": "execute_result"
    }
   ],
   "source": [
    "from xgboost import XGBClassifier\n",
    "\n",
    "# Initialize the model\n",
    "xgb_clf = XGBClassifier(random_state=42, use_label_encoder=False, eval_metric='mlogloss')\n",
    "\n",
    "# Train the model\n",
    "xgb_clf.fit(X_significant, y_train)"
   ]
  },
  {
   "cell_type": "code",
   "execution_count": 90,
   "id": "6a1e5b14",
   "metadata": {},
   "outputs": [],
   "source": [
    "# Select significant features in training and testing sets\n",
    "X_train_significant = X_train[significant_features]\n",
    "X_test_significant = X_test[significant_features]"
   ]
  },
  {
   "cell_type": "code",
   "execution_count": 91,
   "id": "81b2c607",
   "metadata": {},
   "outputs": [],
   "source": [
    "# Predictions\n",
    "y_train_pred =xgb_clf.predict(X_train_significant)\n",
    "y_test_pred =xgb_clf.predict(X_test_significant)"
   ]
  },
  {
   "cell_type": "code",
   "execution_count": 92,
   "id": "7edc245e",
   "metadata": {},
   "outputs": [
    {
     "name": "stdout",
     "output_type": "stream",
     "text": [
      "Training Accuracy: 0.9846441045405275\n",
      "Testing Accuracy: 0.9022157996146436\n",
      "\n",
      "Confusion Matrix:\n",
      "[[489  32   0   0   0   2   1]\n",
      " [ 26 553   0   0   1  40   6]\n",
      " [  2   1 470  11   1  15  43]\n",
      " [  0   0  18 634   3   0   2]\n",
      " [  0   0   0   1 802   0   1]\n",
      " [  1  36   9   0   0 380  58]\n",
      " [  0   9  37   3   0  47 418]]\n",
      "\n",
      "Classification Report:\n",
      "              precision    recall  f1-score   support\n",
      "\n",
      "           0       0.94      0.93      0.94       524\n",
      "           1       0.88      0.88      0.88       626\n",
      "           2       0.88      0.87      0.87       543\n",
      "           3       0.98      0.96      0.97       657\n",
      "           4       0.99      1.00      1.00       804\n",
      "           5       0.79      0.79      0.79       484\n",
      "           6       0.79      0.81      0.80       514\n",
      "\n",
      "    accuracy                           0.90      4152\n",
      "   macro avg       0.89      0.89      0.89      4152\n",
      "weighted avg       0.90      0.90      0.90      4152\n",
      "\n"
     ]
    }
   ],
   "source": [
    "# Training Accuracy\n",
    "from sklearn.metrics import accuracy_score,confusion_matrix,classification_report\n",
    "\n",
    "train_accuracy = accuracy_score(y_train, y_train_pred)\n",
    "print(f\"Training Accuracy: {train_accuracy}\")\n",
    "    \n",
    "    # Testing Accuracy\n",
    "test_accuracy = accuracy_score(y_test, y_test_pred)\n",
    "print(f\"Testing Accuracy: {test_accuracy}\")\n",
    "    \n",
    "    # Confusion Matrix\n",
    "print(\"\\nConfusion Matrix:\")\n",
    "print(confusion_matrix(y_test, y_test_pred))\n",
    "    \n",
    "    # Classification Report\n",
    "print(\"\\nClassification Report:\")\n",
    "print(classification_report(y_test, y_test_pred))"
   ]
  },
  {
   "cell_type": "markdown",
   "id": "2e6c264d",
   "metadata": {},
   "source": [
    "# Hyperparameter XGB"
   ]
  },
  {
   "cell_type": "markdown",
   "id": "4150e637",
   "metadata": {},
   "source": [
    "Manually set parameters "
   ]
  },
  {
   "cell_type": "code",
   "execution_count": 18,
   "id": "2543c2d7",
   "metadata": {},
   "outputs": [
    {
     "data": {
      "text/plain": [
       "XGBClassifier(base_score=None, booster=None, callbacks=None,\n",
       "              colsample_bylevel=None, colsample_bynode=None,\n",
       "              colsample_bytree=0.8, device=None, early_stopping_rounds=None,\n",
       "              enable_categorical=False, eval_metric='logloss',\n",
       "              feature_types=None, gamma=0, grow_policy=None,\n",
       "              importance_type=None, interaction_constraints=None,\n",
       "              learning_rate=0.1, max_bin=None, max_cat_threshold=None,\n",
       "              max_cat_to_onehot=None, max_delta_step=None, max_depth=10,\n",
       "              max_leaves=None, min_child_weight=1, missing=nan,\n",
       "              monotone_constraints=None, multi_strategy=None, n_estimators=100,\n",
       "              n_jobs=None, num_parallel_tree=None, objective='multi:softprob', ...)"
      ]
     },
     "execution_count": 18,
     "metadata": {},
     "output_type": "execute_result"
    }
   ],
   "source": [
    "from xgboost import XGBClassifier\n",
    "\n",
    "xgb = XGBClassifier(\n",
    "    random_state=42,\n",
    "    n_estimators=100,\n",
    "    max_depth=10,              # Reduced from 20 to prevent overfitting\n",
    "    min_child_weight=1,        # Equivalent to min_samples_split/min_samples_leaf\n",
    "    gamma=0,                   # Adjust as needed\n",
    "    subsample=0.8,             # 80% of samples\n",
    "    colsample_bytree=0.8,      # 80% of features\n",
    "    learning_rate=0.1,         # Commonly used learning rate\n",
    "    use_label_encoder=False,   # To avoid warnings in newer versions\n",
    "    eval_metric='logloss'      # Specify evaluation metric\n",
    ")\n",
    "xgb.fit(X_train, y_train)\n"
   ]
  },
  {
   "cell_type": "code",
   "execution_count": 21,
   "id": "e95b9156",
   "metadata": {},
   "outputs": [
    {
     "name": "stdout",
     "output_type": "stream",
     "text": [
      "Training Accuracy: 98.77%\n"
     ]
    }
   ],
   "source": [
    "y_train_pred = xgb.predict(X_train)\n",
    "\n",
    "# Calculate the training accuracy\n",
    "training_accuracy = accuracy_score(y_train, y_train_pred)\n",
    "\n",
    "print(f\"Training Accuracy: {training_accuracy * 100:.2f}%\")"
   ]
  },
  {
   "cell_type": "code",
   "execution_count": 59,
   "id": "4e8ba3b2",
   "metadata": {},
   "outputs": [
    {
     "name": "stdout",
     "output_type": "stream",
     "text": [
      "Accuracy: 0.9014932562620424\n",
      "Classification Report:               precision    recall  f1-score   support\n",
      "\n",
      "           0       0.94      0.94      0.94       524\n",
      "           1       0.88      0.89      0.88       626\n",
      "           2       0.87      0.87      0.87       543\n",
      "           3       0.98      0.97      0.97       657\n",
      "           4       1.00      1.00      1.00       804\n",
      "           5       0.78      0.77      0.78       484\n",
      "           6       0.79      0.80      0.80       514\n",
      "\n",
      "    accuracy                           0.90      4152\n",
      "   macro avg       0.89      0.89      0.89      4152\n",
      "weighted avg       0.90      0.90      0.90      4152\n",
      "\n",
      "Confusion Matrix: [[490  31   0   0   0   2   1]\n",
      " [ 27 555   0   0   0  39   5]\n",
      " [  2   1 474  11   1  14  40]\n",
      " [  0   0  19 635   2   0   1]\n",
      " [  0   0   0   1 802   0   1]\n",
      " [  1  38  10   0   0 375  60]\n",
      " [  0   8  43   2   0  49 412]]\n"
     ]
    }
   ],
   "source": [
    "print('Accuracy:', accuracy_score(y_test, y_pred))\n",
    "print('Classification Report:', classification_report(y_test, y_pred))\n",
    "print('Confusion Matrix:', confusion_matrix(y_test, y_pred))"
   ]
  },
  {
   "cell_type": "code",
   "execution_count": 22,
   "id": "a8c39b6e",
   "metadata": {},
   "outputs": [
    {
     "name": "stdout",
     "output_type": "stream",
     "text": [
      "Fitting 5 folds for each of 10 candidates, totalling 50 fits\n",
      "Best hyperparameters found by RandomizedSearchCV: {'subsample': 0.85, 'n_estimators': 200, 'min_child_weight': 3, 'max_depth': 7, 'learning_rate': 0.105, 'gamma': 0.3, 'colsample_bytree': 0.7}\n"
     ]
    }
   ],
   "source": [
    "from sklearn.model_selection import RandomizedSearchCV\n",
    "# Define the XGBoost classifier\n",
    "xgb = XGBClassifier(\n",
    "    random_state=42,\n",
    "    use_label_encoder=False,\n",
    "    eval_metric='logloss'\n",
    ")\n",
    "\n",
    "# Define the parameter distribution for RandomizedSearchCV\n",
    "param_dist = {\n",
    "    'n_estimators': np.arange(100, 500, 100),\n",
    "    'max_depth': np.arange(5, 15, 2),\n",
    "    'learning_rate': np.linspace(0.01, 0.2, 5),\n",
    "    'subsample': np.linspace(0.7, 1.0, 3),\n",
    "    'colsample_bytree': np.linspace(0.7, 1.0, 3),\n",
    "    'min_child_weight': np.arange(1, 6),\n",
    "    'gamma': np.linspace(0, 0.3, 5)\n",
    "}\n",
    "\n",
    "# Set up RandomizedSearchCV with a limited number of iterations (n_iter=10)\n",
    "random_search = RandomizedSearchCV(estimator=xgb, param_distributions=param_dist, n_iter=10, cv=5, scoring='accuracy', verbose=1)\n",
    "\n",
    "# Fit RandomizedSearchCV to the training data\n",
    "random_search.fit(X_train, y_train)\n",
    "\n",
    "# Print the best hyperparameters found\n",
    "print(\"Best hyperparameters found by RandomizedSearchCV:\", random_search.best_params_)"
   ]
  },
  {
   "cell_type": "code",
   "execution_count": 33,
   "id": "25daca61",
   "metadata": {},
   "outputs": [
    {
     "name": "stdout",
     "output_type": "stream",
     "text": [
      "accuracy_score:\n",
      "0.9048651252408478\n",
      "\n",
      "Confusion Matrix:\n",
      "[[489  32   0   0   0   2   1]\n",
      " [ 22 559   0   0   0  36   9]\n",
      " [  2   1 476  10   1  12  41]\n",
      " [  0   0  20 633   3   0   1]\n",
      " [  0   0   1   1 802   0   0]\n",
      " [  1  35  10   0   0 382  56]\n",
      " [  0   6  38   2   0  52 416]]\n",
      "\n",
      "Classification Report:\n",
      "              precision    recall  f1-score   support\n",
      "\n",
      "           0       0.95      0.93      0.94       524\n",
      "           1       0.88      0.89      0.89       626\n",
      "           2       0.87      0.88      0.88       543\n",
      "           3       0.98      0.96      0.97       657\n",
      "           4       1.00      1.00      1.00       804\n",
      "           5       0.79      0.79      0.79       484\n",
      "           6       0.79      0.81      0.80       514\n",
      "\n",
      "    accuracy                           0.90      4152\n",
      "   macro avg       0.90      0.89      0.89      4152\n",
      "weighted avg       0.91      0.90      0.91      4152\n",
      "\n"
     ]
    }
   ],
   "source": [
    "# Use the best estimator for predictions\n",
    "best_xgb = random_search.best_estimator_\n",
    "\n",
    "# Make predictions on the test set\n",
    "y_pred = best_xgb.predict(X_test)\n",
    "\n",
    "\n",
    "# Evaluate the model's performance\n",
    "from sklearn.metrics import accuracy_score,confusion_matrix,classification_report\n",
    "print('accuracy_score:')\n",
    "print(accuracy_score(y_test, y_pred))\n",
    "print(\"\\nConfusion Matrix:\")\n",
    "print(confusion_matrix(y_test, y_pred))\n",
    "    \n",
    "    # Classification Report\n",
    "print(\"\\nClassification Report:\")\n",
    "print(classification_report(y_test, y_pred))"
   ]
  },
  {
   "cell_type": "code",
   "execution_count": 34,
   "id": "b685d9ea",
   "metadata": {},
   "outputs": [
    {
     "name": "stdout",
     "output_type": "stream",
     "text": [
      "accuracy_score:\n",
      "0.9677225099361676\n",
      "\n",
      "Confusion Matrix:\n",
      "[[1952   42    1    1    0    3    0]\n",
      " [  44 2363    3    0    0   39    7]\n",
      " [   1    2 2288   20    4   17   35]\n",
      " [   0    0   12 2576    0    0    3]\n",
      " [   1    0    1    1 3236    3    0]\n",
      " [   7   80   14    0    0 1761   81]\n",
      " [   0    9   44    3    0   58 1894]]\n",
      "\n",
      "Classification Report:\n",
      "              precision    recall  f1-score   support\n",
      "\n",
      "           0       0.97      0.98      0.98      1999\n",
      "           1       0.95      0.96      0.95      2456\n",
      "           2       0.97      0.97      0.97      2367\n",
      "           3       0.99      0.99      0.99      2591\n",
      "           4       1.00      1.00      1.00      3242\n",
      "           5       0.94      0.91      0.92      1943\n",
      "           6       0.94      0.94      0.94      2008\n",
      "\n",
      "    accuracy                           0.97     16606\n",
      "   macro avg       0.96      0.96      0.96     16606\n",
      "weighted avg       0.97      0.97      0.97     16606\n",
      "\n"
     ]
    }
   ],
   "source": [
    "y_train_pred = best_xgb.predict(X_train)\n",
    "\n",
    "# Evaluate the model's performance\n",
    "from sklearn.metrics import accuracy_score,confusion_matrix,classification_report\n",
    "print('accuracy_score:')\n",
    "print(accuracy_score(y_train, y_train_pred))\n",
    "print(\"\\nConfusion Matrix:\")\n",
    "print(confusion_matrix(y_train, y_train_pred))\n",
    "    \n",
    "    # Classification Report\n",
    "print(\"\\nClassification Report:\")\n",
    "print(classification_report(y_train, y_train_pred))"
   ]
  },
  {
   "cell_type": "markdown",
   "id": "44a57356",
   "metadata": {},
   "source": [
    "# SVM"
   ]
  },
  {
   "cell_type": "markdown",
   "id": "11476e2b",
   "metadata": {},
   "source": [
    "Scaling: It's essential to scale your data before using SVM since it is sensitive to feature scaling."
   ]
  },
  {
   "cell_type": "code",
   "execution_count": 60,
   "id": "fba17c82",
   "metadata": {},
   "outputs": [
    {
     "data": {
      "text/plain": [
       "SVC()"
      ]
     },
     "execution_count": 60,
     "metadata": {},
     "output_type": "execute_result"
    }
   ],
   "source": [
    "from sklearn.svm import SVC\n",
    "\n",
    "# Initialize the SVC classifier with default parameters\n",
    "svm = SVC()\n",
    "\n",
    "# Fit the model to the training data\n",
    "svm.fit(X_train, y_train)\n",
    "\n"
   ]
  },
  {
   "cell_type": "code",
   "execution_count": 61,
   "id": "96950946",
   "metadata": {},
   "outputs": [
    {
     "data": {
      "text/plain": [
       "array([2, 0, 3, ..., 5, 4, 3])"
      ]
     },
     "execution_count": 61,
     "metadata": {},
     "output_type": "execute_result"
    }
   ],
   "source": [
    "y_pred = svm.predict(X_train)\n",
    "y_pred"
   ]
  },
  {
   "cell_type": "code",
   "execution_count": 62,
   "id": "8502feaf",
   "metadata": {},
   "outputs": [
    {
     "name": "stdout",
     "output_type": "stream",
     "text": [
      "Accuracy: 0.8181380224015417\n",
      "Classification Report:               precision    recall  f1-score   support\n",
      "\n",
      "           0       0.83      0.95      0.89      1999\n",
      "           1       0.86      0.72      0.78      2456\n",
      "           2       0.77      0.80      0.78      2367\n",
      "           3       0.91      0.85      0.88      2591\n",
      "           4       0.95      0.96      0.95      3242\n",
      "           5       0.67      0.64      0.65      1943\n",
      "           6       0.65      0.72      0.69      2008\n",
      "\n",
      "    accuracy                           0.82     16606\n",
      "   macro avg       0.81      0.81      0.80     16606\n",
      "weighted avg       0.82      0.82      0.82     16606\n",
      "\n",
      "Confusion Matrix: [[1901   90    0    1    0    5    2]\n",
      " [ 359 1767    3    0    0  296   31]\n",
      " [   1    3 1896  148   53   28  238]\n",
      " [   0    0  250 2210  117    2   12]\n",
      " [   1    0   47   73 3118    3    0]\n",
      " [  15  170   32    0    0 1244  482]\n",
      " [   0   29  246    1    0  282 1450]]\n"
     ]
    }
   ],
   "source": [
    "print('Accuracy:', accuracy_score(y_train, y_pred))\n",
    "print('Classification Report:', classification_report(y_train, y_pred))\n",
    "print('Confusion Matrix:', confusion_matrix(y_train, y_pred))"
   ]
  },
  {
   "cell_type": "code",
   "execution_count": 64,
   "id": "6d582d6a",
   "metadata": {},
   "outputs": [
    {
     "data": {
      "text/plain": [
       "array([4, 5, 6, ..., 2, 6, 6])"
      ]
     },
     "execution_count": 64,
     "metadata": {},
     "output_type": "execute_result"
    }
   ],
   "source": [
    "# Make predictions on the test data\n",
    "y_pred = svm.predict(X_test)\n",
    "y_pred"
   ]
  },
  {
   "cell_type": "code",
   "execution_count": 65,
   "id": "b597a6b1",
   "metadata": {},
   "outputs": [
    {
     "name": "stdout",
     "output_type": "stream",
     "text": [
      "Accuracy: 0.8126204238921002\n",
      "Classification Report:               precision    recall  f1-score   support\n",
      "\n",
      "           0       0.84      0.95      0.89       524\n",
      "           1       0.85      0.72      0.78       626\n",
      "           2       0.75      0.76      0.76       543\n",
      "           3       0.91      0.84      0.87       657\n",
      "           4       0.94      0.96      0.95       804\n",
      "           5       0.66      0.63      0.65       484\n",
      "           6       0.65      0.75      0.70       514\n",
      "\n",
      "    accuracy                           0.81      4152\n",
      "   macro avg       0.80      0.80      0.80      4152\n",
      "weighted avg       0.82      0.81      0.81      4152\n",
      "\n",
      "Confusion Matrix: [[496  25   0   0   0   2   1]\n",
      " [ 89 451   0   0   0  80   6]\n",
      " [  2   0 415  33  12   9  72]\n",
      " [  0   0  66 550  40   0   1]\n",
      " [  0   0  10  22 771   0   1]\n",
      " [  1  44   8   0   0 307 124]\n",
      " [  0   8  55   1   0  66 384]]\n"
     ]
    }
   ],
   "source": [
    "print('Accuracy:', accuracy_score(y_test, y_pred))\n",
    "print('Classification Report:', classification_report(y_test, y_pred))\n",
    "print('Confusion Matrix:', confusion_matrix(y_test, y_pred))"
   ]
  },
  {
   "cell_type": "markdown",
   "id": "14f9e0e6",
   "metadata": {},
   "source": [
    "# Decision Tree "
   ]
  },
  {
   "cell_type": "code",
   "execution_count": 66,
   "id": "eaf4153a",
   "metadata": {},
   "outputs": [
    {
     "data": {
      "text/plain": [
       "DecisionTreeClassifier(random_state=42)"
      ]
     },
     "execution_count": 66,
     "metadata": {},
     "output_type": "execute_result"
    }
   ],
   "source": [
    "from sklearn.tree import DecisionTreeClassifier\n",
    "\n",
    "dt_classifier = DecisionTreeClassifier(random_state=42)\n",
    "\n",
    "# Fit the model to the training data\n",
    "dt_classifier.fit(X_train, y_train)"
   ]
  },
  {
   "cell_type": "code",
   "execution_count": 67,
   "id": "8eec9a2c",
   "metadata": {},
   "outputs": [
    {
     "name": "stdout",
     "output_type": "stream",
     "text": [
      "Accuracy: 0.9994\n",
      "Confusion Matrix:\n",
      "[[1999    0    0    0    0    0    0]\n",
      " [   2 2454    0    0    0    0    0]\n",
      " [   0    0 2367    0    0    0    0]\n",
      " [   0    0    0 2591    0    0    0]\n",
      " [   0    0    0    0 3242    0    0]\n",
      " [   0    3    0    0    0 1939    1]\n",
      " [   0    0    2    0    0    2 2004]]\n",
      "Classification Report:\n",
      "              precision    recall  f1-score   support\n",
      "\n",
      "           0       1.00      1.00      1.00      1999\n",
      "           1       1.00      1.00      1.00      2456\n",
      "           2       1.00      1.00      1.00      2367\n",
      "           3       1.00      1.00      1.00      2591\n",
      "           4       1.00      1.00      1.00      3242\n",
      "           5       1.00      1.00      1.00      1943\n",
      "           6       1.00      1.00      1.00      2008\n",
      "\n",
      "    accuracy                           1.00     16606\n",
      "   macro avg       1.00      1.00      1.00     16606\n",
      "weighted avg       1.00      1.00      1.00     16606\n",
      "\n"
     ]
    }
   ],
   "source": [
    "y_pred = dt_classifier.predict(X_train)\n",
    "\n",
    "# Evaluate the model using accuracy\n",
    "accuracy = accuracy_score(y_train, y_pred)\n",
    "print(f\"Accuracy: {accuracy:.4f}\")\n",
    "\n",
    "# Confusion Matrix\n",
    "cm = confusion_matrix(y_train, y_pred)\n",
    "print(f\"Confusion Matrix:\\n{cm}\")\n",
    "\n",
    "# Classification Report\n",
    "report = classification_report(y_train, y_pred)\n",
    "print(f\"Classification Report:\\n{report}\")\n",
    "\n"
   ]
  },
  {
   "cell_type": "code",
   "execution_count": 68,
   "id": "029d72b3",
   "metadata": {},
   "outputs": [
    {
     "name": "stdout",
     "output_type": "stream",
     "text": [
      "Accuracy: 0.8389\n",
      "Confusion Matrix:\n",
      "[[456  60   0   0   1   7   0]\n",
      " [ 57 500   5   0   1  53  10]\n",
      " [  2   2 434  20   1  28  56]\n",
      " [  0   0  36 617   2   0   2]\n",
      " [  0   0   1   1 801   0   1]\n",
      " [  2  49  18   3   3 330  79]\n",
      " [  1  14  56   7   1  90 345]]\n",
      "Classification Report:\n",
      "              precision    recall  f1-score   support\n",
      "\n",
      "           0       0.88      0.87      0.88       524\n",
      "           1       0.80      0.80      0.80       626\n",
      "           2       0.79      0.80      0.79       543\n",
      "           3       0.95      0.94      0.95       657\n",
      "           4       0.99      1.00      0.99       804\n",
      "           5       0.65      0.68      0.67       484\n",
      "           6       0.70      0.67      0.69       514\n",
      "\n",
      "    accuracy                           0.84      4152\n",
      "   macro avg       0.82      0.82      0.82      4152\n",
      "weighted avg       0.84      0.84      0.84      4152\n",
      "\n"
     ]
    }
   ],
   "source": [
    "\n",
    "# Make predictions on the test set\n",
    "y_pred = dt_classifier.predict(X_test)\n",
    "\n",
    "# Evaluate the model using accuracy\n",
    "accuracy = accuracy_score(y_test, y_pred)\n",
    "print(f\"Accuracy: {accuracy:.4f}\")\n",
    "\n",
    "# Confusion Matrix\n",
    "cm = confusion_matrix(y_test, y_pred)\n",
    "print(f\"Confusion Matrix:\\n{cm}\")\n",
    "\n",
    "# Classification Report\n",
    "report = classification_report(y_test, y_pred)\n",
    "print(f\"Classification Report:\\n{report}\")\n",
    "\n"
   ]
  },
  {
   "cell_type": "markdown",
   "id": "92734b63",
   "metadata": {},
   "source": [
    "# Hyperparameter (Decision Tree)"
   ]
  },
  {
   "cell_type": "code",
   "execution_count": 69,
   "id": "15b621c1",
   "metadata": {},
   "outputs": [
    {
     "name": "stdout",
     "output_type": "stream",
     "text": [
      "Fitting 3 folds for each of 20 candidates, totalling 60 fits\n",
      "Best Parameters: {'splitter': 'best', 'min_samples_split': 10, 'min_samples_leaf': 10, 'max_features': 'sqrt', 'max_depth': 20, 'criterion': 'entropy'}\n"
     ]
    }
   ],
   "source": [
    "# Define the hyperparameter grid for RandomizedSearchCV\n",
    "param_grid = {\n",
    "    'criterion': ['gini', 'entropy'],  # Splitting criteria\n",
    "    'max_depth': [None, 10, 20, 30, 40],  # Maximum depth of the tree\n",
    "    'min_samples_split': [2, 10, 20],  # Minimum samples required to split an internal node\n",
    "    'min_samples_leaf': [1, 5, 10],  # Minimum samples required to be at a leaf node\n",
    "    'max_features': [None, 'sqrt', 'log2'],  # Number of features to consider for the best split\n",
    "    'splitter': ['best', 'random']  # Strategy used to split at each node\n",
    "}\n",
    "\n",
    "# Initialize the Decision Tree Classifier\n",
    "dt_classifier = DecisionTreeClassifier(random_state=42)\n",
    "\n",
    "# Set up RandomizedSearchCV\n",
    "dt_cv = RandomizedSearchCV(estimator=dt_classifier, param_distributions=param_grid, \n",
    "                           scoring='accuracy', n_iter=20, cv=3, verbose=2, random_state=42, n_jobs=-1)\n",
    "\n",
    "# Fit the model\n",
    "dt_cv.fit(X_train, y_train)\n",
    "\n",
    "# Get the best parameters\n",
    "best_params = dt_cv.best_params_\n",
    "print(f\"Best Parameters: {best_params}\")\n"
   ]
  },
  {
   "cell_type": "code",
   "execution_count": 70,
   "id": "0d22b022",
   "metadata": {},
   "outputs": [
    {
     "data": {
      "text/plain": [
       "DecisionTreeClassifier(criterion='entropy', max_depth=20, max_features='sqrt',\n",
       "                       min_samples_leaf=10, min_samples_split=10,\n",
       "                       random_state=42)"
      ]
     },
     "execution_count": 70,
     "metadata": {},
     "output_type": "execute_result"
    }
   ],
   "source": [
    "best_dt = DecisionTreeClassifier(**best_params, random_state=42)\n",
    "best_dt.fit(X_train, y_train)"
   ]
  },
  {
   "cell_type": "code",
   "execution_count": 71,
   "id": "a96052e8",
   "metadata": {},
   "outputs": [
    {
     "name": "stdout",
     "output_type": "stream",
     "text": [
      "Accuracy on the test set: 0.89\n",
      "Confusion Matrix:\n",
      "[[1876  114    1    1    0    7    0]\n",
      " [ 177 2131    5    0    0  125   18]\n",
      " [   1    4 2068   94   11   60  129]\n",
      " [   0    0  106 2460   12    1   12]\n",
      " [   1    0    4    8 3226    3    0]\n",
      " [  16  191   54    0    0 1473  209]\n",
      " [   0   36  208   10    0  235 1519]]\n",
      "Classification Report:\n",
      "              precision    recall  f1-score   support\n",
      "\n",
      "           0       0.91      0.94      0.92      1999\n",
      "           1       0.86      0.87      0.86      2456\n",
      "           2       0.85      0.87      0.86      2367\n",
      "           3       0.96      0.95      0.95      2591\n",
      "           4       0.99      1.00      0.99      3242\n",
      "           5       0.77      0.76      0.77      1943\n",
      "           6       0.80      0.76      0.78      2008\n",
      "\n",
      "    accuracy                           0.89     16606\n",
      "   macro avg       0.88      0.88      0.88     16606\n",
      "weighted avg       0.89      0.89      0.89     16606\n",
      "\n"
     ]
    }
   ],
   "source": [
    "# Make predictions on the test data\n",
    "y_pred = best_dt.predict(X_train)\n",
    "\n",
    "# Evaluate the accuracy\n",
    "accuracy = accuracy_score(y_train, y_pred)\n",
    "print(f\"Accuracy on the test set: {accuracy:.2f}\")\n",
    "\n",
    "# Confusion Matrix\n",
    "cm = confusion_matrix(y_train, y_pred)\n",
    "print(f\"Confusion Matrix:\\n{cm}\")\n",
    "\n",
    "# Classification Report\n",
    "report = classification_report(y_train, y_pred)\n",
    "print(f\"Classification Report:\\n{report}\")\n"
   ]
  },
  {
   "cell_type": "code",
   "execution_count": 72,
   "id": "abc3304b",
   "metadata": {},
   "outputs": [
    {
     "name": "stdout",
     "output_type": "stream",
     "text": [
      "Accuracy on the test set: 0.87\n",
      "Confusion Matrix:\n",
      "[[481  40   0   0   0   2   1]\n",
      " [ 42 520   0   0   0  60   4]\n",
      " [  2   1 467  13   2  25  33]\n",
      " [  0   0  37 616   4   0   0]\n",
      " [  0   0   1   3 800   0   0]\n",
      " [  2  57  14   0   0 348  63]\n",
      " [  0  11  50   4   0  84 365]]\n",
      "Classification Report:\n",
      "              precision    recall  f1-score   support\n",
      "\n",
      "           0       0.91      0.92      0.92       524\n",
      "           1       0.83      0.83      0.83       626\n",
      "           2       0.82      0.86      0.84       543\n",
      "           3       0.97      0.94      0.95       657\n",
      "           4       0.99      1.00      0.99       804\n",
      "           5       0.67      0.72      0.69       484\n",
      "           6       0.78      0.71      0.74       514\n",
      "\n",
      "    accuracy                           0.87      4152\n",
      "   macro avg       0.85      0.85      0.85      4152\n",
      "weighted avg       0.87      0.87      0.87      4152\n",
      "\n"
     ]
    }
   ],
   "source": [
    "# Make predictions on the test data\n",
    "y_pred = best_dt.predict(X_test)\n",
    "\n",
    "# Evaluate the accuracy\n",
    "accuracy = accuracy_score(y_test, y_pred)\n",
    "print(f\"Accuracy on the test set: {accuracy:.2f}\")\n",
    "\n",
    "# Confusion Matrix\n",
    "cm = confusion_matrix(y_test, y_pred)\n",
    "print(f\"Confusion Matrix:\\n{cm}\")\n",
    "\n",
    "# Classification Report\n",
    "report = classification_report(y_test, y_pred)\n",
    "print(f\"Classification Report:\\n{report}\")\n"
   ]
  },
  {
   "cell_type": "markdown",
   "id": "ea7f6a9d",
   "metadata": {},
   "source": [
    "# KNN"
   ]
  },
  {
   "cell_type": "code",
   "execution_count": 79,
   "id": "bddaf451",
   "metadata": {
    "scrolled": true
   },
   "outputs": [
    {
     "name": "stdout",
     "output_type": "stream",
     "text": [
      "Accuracy on the test set: 0.8759633911368016\n",
      "Confusion Matrix:\n",
      "[[496  25   0   0   0   2   1]\n",
      " [ 48 515   1   0   0  55   7]\n",
      " [  2   2 458  18   6  14  43]\n",
      " [  0   0  29 620   6   0   2]\n",
      " [  0   0   1   6 797   0   0]\n",
      " [  1  44  15   0   0 356  68]\n",
      " [  0  13  56   4   0  46 395]]\n",
      "\n",
      "Classification Report:\n",
      "              precision    recall  f1-score   support\n",
      "\n",
      "           0       0.91      0.95      0.93       524\n",
      "           1       0.86      0.82      0.84       626\n",
      "           2       0.82      0.84      0.83       543\n",
      "           3       0.96      0.94      0.95       657\n",
      "           4       0.99      0.99      0.99       804\n",
      "           5       0.75      0.74      0.74       484\n",
      "           6       0.77      0.77      0.77       514\n",
      "\n",
      "    accuracy                           0.88      4152\n",
      "   macro avg       0.86      0.86      0.86      4152\n",
      "weighted avg       0.88      0.88      0.88      4152\n",
      "\n"
     ]
    }
   ],
   "source": [
    "from sklearn.neighbors import KNeighborsClassifier\n",
    "\n",
    "# Initialize the KNN classifier\n",
    "knn = KNeighborsClassifier(n_neighbors=3)  # You can adjust n_neighbors based on your needs\n",
    "\n",
    "# Fit the model\n",
    "knn.fit(X_train, y_train)\n",
    "\n",
    "# Make predictions\n",
    "y_pred = knn.predict(X_test)\n",
    "\n",
    "# Evaluate the model\n",
    "# Evaluate the accuracy\n",
    "accuracy = accuracy_score(y_test, y_pred)\n",
    "print(f\"Accuracy on the test set: {accuracy}\")\n",
    "print(\"Confusion Matrix:\")\n",
    "print(confusion_matrix(y_test, y_pred))\n",
    "print(\"\\nClassification Report:\")\n",
    "print(classification_report(y_test, y_pred))"
   ]
  },
  {
   "cell_type": "code",
   "execution_count": 77,
   "id": "83bf3b23",
   "metadata": {},
   "outputs": [
    {
     "name": "stdout",
     "output_type": "stream",
     "text": [
      "Accuracy on the train set: 0.92\n",
      "Confusion Matrix:\n",
      "[[1917   74    1    1    0    5    1]\n",
      " [ 135 2221    2    0    0   85   13]\n",
      " [   1    8 2110   91   19   29  109]\n",
      " [   0    2   58 2504   19    0    8]\n",
      " [   1    0    6   11 3221    3    0]\n",
      " [  21  127   72    1    1 1556  165]\n",
      " [   3   50  149    6    0  112 1688]]\n",
      "\n",
      "Classification Report:\n",
      "              precision    recall  f1-score   support\n",
      "\n",
      "           0       0.92      0.96      0.94      1999\n",
      "           1       0.89      0.90      0.90      2456\n",
      "           2       0.88      0.89      0.89      2367\n",
      "           3       0.96      0.97      0.96      2591\n",
      "           4       0.99      0.99      0.99      3242\n",
      "           5       0.87      0.80      0.83      1943\n",
      "           6       0.85      0.84      0.85      2008\n",
      "\n",
      "    accuracy                           0.92     16606\n",
      "   macro avg       0.91      0.91      0.91     16606\n",
      "weighted avg       0.92      0.92      0.92     16606\n",
      "\n"
     ]
    }
   ],
   "source": [
    "y_pred = knn.predict(X_train)\n",
    "\n",
    "# Evaluate the model\n",
    "# Evaluate the accuracy\n",
    "accuracy = accuracy_score(y_train, y_pred)\n",
    "print(f\"Accuracy on the train set: {accuracy:.2f}\")\n",
    "print(\"Confusion Matrix:\")\n",
    "print(confusion_matrix(y_train, y_pred))\n",
    "print(\"\\nClassification Report:\")\n",
    "print(classification_report(y_train, y_pred))"
   ]
  },
  {
   "cell_type": "markdown",
   "id": "e9976a08",
   "metadata": {},
   "source": [
    "# GradientBoosting"
   ]
  },
  {
   "cell_type": "code",
   "execution_count": 80,
   "id": "297969a4",
   "metadata": {},
   "outputs": [
    {
     "name": "stdout",
     "output_type": "stream",
     "text": [
      "Accuracy: 0.9158135613633627\n"
     ]
    }
   ],
   "source": [
    "from sklearn.ensemble import GradientBoostingClassifier\n",
    "\n",
    "# Initialize the Gradient Boosting classifier with default parameters\n",
    "gb_classifier = GradientBoostingClassifier(random_state=42)\n",
    "\n",
    "# Fit the model to the training data\n",
    "gb_classifier.fit(X_train, y_train)\n",
    "\n",
    "# Make predictions on the test set\n",
    "y_pred = gb_classifier.predict(X_train)\n",
    "\n",
    "# Evaluate the model using accuracy\n",
    "accuracy = accuracy_score(y_train, y_pred)\n",
    "print(f\"Accuracy: {accuracy}\")"
   ]
  },
  {
   "cell_type": "code",
   "execution_count": 81,
   "id": "c0497e3b",
   "metadata": {},
   "outputs": [
    {
     "name": "stdout",
     "output_type": "stream",
     "text": [
      "Accuracy: 0.8976396917148363\n"
     ]
    }
   ],
   "source": [
    "y_pred = gb_classifier.predict(X_test)\n",
    "\n",
    "# Evaluate the model using accuracy\n",
    "accuracy = accuracy_score(y_test, y_pred)\n",
    "print(f\"Accuracy: {accuracy}\")"
   ]
  },
  {
   "cell_type": "code",
   "execution_count": null,
   "id": "2306f2db",
   "metadata": {},
   "outputs": [],
   "source": []
  }
 ],
 "metadata": {
  "kernelspec": {
   "display_name": "Python 3 (ipykernel)",
   "language": "python",
   "name": "python3"
  },
  "language_info": {
   "codemirror_mode": {
    "name": "ipython",
    "version": 3
   },
   "file_extension": ".py",
   "mimetype": "text/x-python",
   "name": "python",
   "nbconvert_exporter": "python",
   "pygments_lexer": "ipython3",
   "version": "3.9.12"
  }
 },
 "nbformat": 4,
 "nbformat_minor": 5
}
